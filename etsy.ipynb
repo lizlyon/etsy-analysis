{
 "cells": [
  {
   "cell_type": "markdown",
   "id": "36ce987b",
   "metadata": {},
   "source": [
    "## Load Packages "
   ]
  },
  {
   "cell_type": "code",
   "execution_count": 64,
   "id": "6056a7fd",
   "metadata": {},
   "outputs": [],
   "source": [
    "import pandas as pd\n",
    "import numpy as np\n",
    "from plotnine import *\n",
    "\n",
    "from sklearn.linear_model import LogisticRegression # Logistic Regression Model\n",
    "from sklearn.preprocessing import StandardScaler #Z-score variables\n",
    "from sklearn.metrics import accuracy_score, confusion_matrix\n",
    "from sklearn.model_selection import train_test_split # simple TT split cv\n",
    "from sklearn.model_selection import KFold # k-fold cv\n",
    "from sklearn.model_selection import cross_val_score # cross validation metrics\n",
    "from sklearn.model_selection import cross_val_predict # cross validation metrics\n",
    "from sklearn.preprocessing import OrdinalEncoder\n",
    "from sklearn.cluster import KMeans\n",
    "from sklearn.mixture import GaussianMixture\n",
    "from sklearn.metrics import silhouette_score\n",
    "from sklearn.linear_model import LinearRegression # Linear Regression Model\n",
    "from sklearn.preprocessing import StandardScaler #Z-score variables\n",
    "from sklearn.metrics import mean_squared_error, mean_absolute_error, r2_score #model evaluation\n",
    "\n",
    "import warnings\n",
    "warnings.filterwarnings(\"ignore\")\n",
    "\n",
    "%matplotlib inline"
   ]
  },
  {
   "cell_type": "code",
   "execution_count": 26,
   "id": "fc29ac2b",
   "metadata": {},
   "outputs": [
    {
     "data": {
      "text/html": [
       "<div>\n",
       "<style scoped>\n",
       "    .dataframe tbody tr th:only-of-type {\n",
       "        vertical-align: middle;\n",
       "    }\n",
       "\n",
       "    .dataframe tbody tr th {\n",
       "        vertical-align: top;\n",
       "    }\n",
       "\n",
       "    .dataframe thead th {\n",
       "        text-align: right;\n",
       "    }\n",
       "</style>\n",
       "<table border=\"1\" class=\"dataframe\">\n",
       "  <thead>\n",
       "    <tr style=\"text-align: right;\">\n",
       "      <th></th>\n",
       "      <th>shop_id</th>\n",
       "      <th>shop_name</th>\n",
       "      <th>is_open</th>\n",
       "      <th>sold_count</th>\n",
       "      <th>additional_customization</th>\n",
       "      <th>active_listing_count</th>\n",
       "      <th>status</th>\n",
       "      <th>location</th>\n",
       "      <th>favorites_count</th>\n",
       "      <th>average_rating</th>\n",
       "      <th>...</th>\n",
       "      <th>currency_code</th>\n",
       "      <th>has_currency_code</th>\n",
       "      <th>accepts_direct_checkout</th>\n",
       "      <th>accepts_paypal</th>\n",
       "      <th>ships_to_country_ids</th>\n",
       "      <th>is_eligible_free_shipping</th>\n",
       "      <th>has_min_free_shipping</th>\n",
       "      <th>has_free_shipping</th>\n",
       "      <th>ships_to_regions</th>\n",
       "      <th>RunDate</th>\n",
       "    </tr>\n",
       "  </thead>\n",
       "  <tbody>\n",
       "    <tr>\n",
       "      <th>0</th>\n",
       "      <td>9811209</td>\n",
       "      <td>PlannerKate1</td>\n",
       "      <td>True</td>\n",
       "      <td>1839198</td>\n",
       "      <td>True</td>\n",
       "      <td>2583</td>\n",
       "      <td>active</td>\n",
       "      <td>Oak Harbor, Ohio</td>\n",
       "      <td>61367</td>\n",
       "      <td>4.9869</td>\n",
       "      <td>...</td>\n",
       "      <td>USD</td>\n",
       "      <td>True</td>\n",
       "      <td>True</td>\n",
       "      <td>False</td>\n",
       "      <td>[209, 0, 150, 79, 175]</td>\n",
       "      <td>False</td>\n",
       "      <td>False</td>\n",
       "      <td>False</td>\n",
       "      <td>['ANY']</td>\n",
       "      <td>4/3/22 12:05</td>\n",
       "    </tr>\n",
       "    <tr>\n",
       "      <th>1</th>\n",
       "      <td>10204022</td>\n",
       "      <td>CaitlynMinimalist</td>\n",
       "      <td>True</td>\n",
       "      <td>1565708</td>\n",
       "      <td>True</td>\n",
       "      <td>1070</td>\n",
       "      <td>active</td>\n",
       "      <td>LA, California</td>\n",
       "      <td>258218</td>\n",
       "      <td>4.8767</td>\n",
       "      <td>...</td>\n",
       "      <td>USD</td>\n",
       "      <td>True</td>\n",
       "      <td>True</td>\n",
       "      <td>False</td>\n",
       "      <td>[79, 167, 290, 284, 209, 61, 58, 74, 105, 55, ...</td>\n",
       "      <td>True</td>\n",
       "      <td>False</td>\n",
       "      <td>True</td>\n",
       "      <td>['ANY']</td>\n",
       "      <td>4/3/22 12:05</td>\n",
       "    </tr>\n",
       "    <tr>\n",
       "      <th>2</th>\n",
       "      <td>9901413</td>\n",
       "      <td>Beadboat1</td>\n",
       "      <td>True</td>\n",
       "      <td>1461640</td>\n",
       "      <td>True</td>\n",
       "      <td>8511</td>\n",
       "      <td>active</td>\n",
       "      <td>Dallas, Texas</td>\n",
       "      <td>59085</td>\n",
       "      <td>4.7952</td>\n",
       "      <td>...</td>\n",
       "      <td>USD</td>\n",
       "      <td>True</td>\n",
       "      <td>True</td>\n",
       "      <td>False</td>\n",
       "      <td>[70, 118, 146, 90, 151, 79, 207, 91, 71, 215, ...</td>\n",
       "      <td>True</td>\n",
       "      <td>True</td>\n",
       "      <td>True</td>\n",
       "      <td>['AL', 'AM', 'AU', 'AT', 'BE', 'BG', 'BY', 'BR...</td>\n",
       "      <td>4/3/22 12:05</td>\n",
       "    </tr>\n",
       "    <tr>\n",
       "      <th>3</th>\n",
       "      <td>8617622</td>\n",
       "      <td>ModParty</td>\n",
       "      <td>True</td>\n",
       "      <td>1285848</td>\n",
       "      <td>True</td>\n",
       "      <td>1618</td>\n",
       "      <td>active</td>\n",
       "      <td>Tustin, California</td>\n",
       "      <td>115299</td>\n",
       "      <td>4.8728</td>\n",
       "      <td>...</td>\n",
       "      <td>USD</td>\n",
       "      <td>True</td>\n",
       "      <td>True</td>\n",
       "      <td>False</td>\n",
       "      <td>[175, 61, 80, 220, 219, 204, 56, 103, 79, 128,...</td>\n",
       "      <td>False</td>\n",
       "      <td>False</td>\n",
       "      <td>False</td>\n",
       "      <td>['US']</td>\n",
       "      <td>4/3/22 12:05</td>\n",
       "    </tr>\n",
       "    <tr>\n",
       "      <th>4</th>\n",
       "      <td>5413707</td>\n",
       "      <td>yakutum</td>\n",
       "      <td>True</td>\n",
       "      <td>969314</td>\n",
       "      <td>True</td>\n",
       "      <td>24293</td>\n",
       "      <td>active</td>\n",
       "      <td>Istanbul, Turkey</td>\n",
       "      <td>36700</td>\n",
       "      <td>4.9373</td>\n",
       "      <td>...</td>\n",
       "      <td>USD</td>\n",
       "      <td>True</td>\n",
       "      <td>True</td>\n",
       "      <td>True</td>\n",
       "      <td>[209, 167, 127, 0, 203, 61, 131]</td>\n",
       "      <td>False</td>\n",
       "      <td>False</td>\n",
       "      <td>False</td>\n",
       "      <td>['ANY']</td>\n",
       "      <td>4/3/22 12:05</td>\n",
       "    </tr>\n",
       "  </tbody>\n",
       "</table>\n",
       "<p>5 rows × 24 columns</p>\n",
       "</div>"
      ],
      "text/plain": [
       "    shop_id          shop_name  is_open  sold_count  additional_customization  \\\n",
       "0   9811209       PlannerKate1     True     1839198                      True   \n",
       "1  10204022  CaitlynMinimalist     True     1565708                      True   \n",
       "2   9901413          Beadboat1     True     1461640                      True   \n",
       "3   8617622           ModParty     True     1285848                      True   \n",
       "4   5413707            yakutum     True      969314                      True   \n",
       "\n",
       "   active_listing_count  status            location  favorites_count  \\\n",
       "0                  2583  active    Oak Harbor, Ohio            61367   \n",
       "1                  1070  active      LA, California           258218   \n",
       "2                  8511  active       Dallas, Texas            59085   \n",
       "3                  1618  active  Tustin, California           115299   \n",
       "4                 24293  active    Istanbul, Turkey            36700   \n",
       "\n",
       "   average_rating  ...  currency_code  has_currency_code  \\\n",
       "0          4.9869  ...            USD               True   \n",
       "1          4.8767  ...            USD               True   \n",
       "2          4.7952  ...            USD               True   \n",
       "3          4.8728  ...            USD               True   \n",
       "4          4.9373  ...            USD               True   \n",
       "\n",
       "   accepts_direct_checkout accepts_paypal  \\\n",
       "0                     True          False   \n",
       "1                     True          False   \n",
       "2                     True          False   \n",
       "3                     True          False   \n",
       "4                     True           True   \n",
       "\n",
       "                                ships_to_country_ids  \\\n",
       "0                             [209, 0, 150, 79, 175]   \n",
       "1  [79, 167, 290, 284, 209, 61, 58, 74, 105, 55, ...   \n",
       "2  [70, 118, 146, 90, 151, 79, 207, 91, 71, 215, ...   \n",
       "3  [175, 61, 80, 220, 219, 204, 56, 103, 79, 128,...   \n",
       "4                   [209, 167, 127, 0, 203, 61, 131]   \n",
       "\n",
       "   is_eligible_free_shipping  has_min_free_shipping  has_free_shipping  \\\n",
       "0                      False                  False              False   \n",
       "1                       True                  False               True   \n",
       "2                       True                   True               True   \n",
       "3                      False                  False              False   \n",
       "4                      False                  False              False   \n",
       "\n",
       "                                    ships_to_regions       RunDate  \n",
       "0                                            ['ANY']  4/3/22 12:05  \n",
       "1                                            ['ANY']  4/3/22 12:05  \n",
       "2  ['AL', 'AM', 'AU', 'AT', 'BE', 'BG', 'BY', 'BR...  4/3/22 12:05  \n",
       "3                                             ['US']  4/3/22 12:05  \n",
       "4                                            ['ANY']  4/3/22 12:05  \n",
       "\n",
       "[5 rows x 24 columns]"
      ]
     },
     "execution_count": 26,
     "metadata": {},
     "output_type": "execute_result"
    }
   ],
   "source": [
    "# load data \n",
    "df = pd.read_csv(\"./etsy.csv\")\n",
    "df.head()"
   ]
  },
  {
   "cell_type": "markdown",
   "id": "0e9f52a6",
   "metadata": {},
   "source": [
    "## Stat Summary:"
   ]
  },
  {
   "cell_type": "code",
   "execution_count": 8,
   "id": "ac7354a6",
   "metadata": {},
   "outputs": [
    {
     "data": {
      "text/html": [
       "<div>\n",
       "<style scoped>\n",
       "    .dataframe tbody tr th:only-of-type {\n",
       "        vertical-align: middle;\n",
       "    }\n",
       "\n",
       "    .dataframe tbody tr th {\n",
       "        vertical-align: top;\n",
       "    }\n",
       "\n",
       "    .dataframe thead th {\n",
       "        text-align: right;\n",
       "    }\n",
       "</style>\n",
       "<table border=\"1\" class=\"dataframe\">\n",
       "  <thead>\n",
       "    <tr style=\"text-align: right;\">\n",
       "      <th></th>\n",
       "      <th>shop_id</th>\n",
       "      <th>sold_count</th>\n",
       "      <th>active_listing_count</th>\n",
       "      <th>favorites_count</th>\n",
       "      <th>average_rating</th>\n",
       "      <th>total_rating_count</th>\n",
       "      <th>average_rating_count</th>\n",
       "      <th>geoname_id</th>\n",
       "    </tr>\n",
       "  </thead>\n",
       "  <tbody>\n",
       "    <tr>\n",
       "      <th>count</th>\n",
       "      <td>6.821000e+03</td>\n",
       "      <td>6.821000e+03</td>\n",
       "      <td>6821.000000</td>\n",
       "      <td>6821.000000</td>\n",
       "      <td>6821.000000</td>\n",
       "      <td>6821.000000</td>\n",
       "      <td>6821.000000</td>\n",
       "      <td>6.821000e+03</td>\n",
       "    </tr>\n",
       "    <tr>\n",
       "      <th>mean</th>\n",
       "      <td>1.182111e+07</td>\n",
       "      <td>5.410635e+04</td>\n",
       "      <td>833.908078</td>\n",
       "      <td>7544.017006</td>\n",
       "      <td>4.899069</td>\n",
       "      <td>8465.615306</td>\n",
       "      <td>2097.128427</td>\n",
       "      <td>4.412836e+06</td>\n",
       "    </tr>\n",
       "    <tr>\n",
       "      <th>std</th>\n",
       "      <td>5.301915e+06</td>\n",
       "      <td>6.610441e+04</td>\n",
       "      <td>1713.912879</td>\n",
       "      <td>9869.686896</td>\n",
       "      <td>0.095504</td>\n",
       "      <td>10983.251610</td>\n",
       "      <td>3220.595331</td>\n",
       "      <td>1.356942e+06</td>\n",
       "    </tr>\n",
       "    <tr>\n",
       "      <th>min</th>\n",
       "      <td>5.037340e+06</td>\n",
       "      <td>2.272900e+04</td>\n",
       "      <td>1.000000</td>\n",
       "      <td>188.000000</td>\n",
       "      <td>3.000000</td>\n",
       "      <td>411.000000</td>\n",
       "      <td>2.000000</td>\n",
       "      <td>0.000000e+00</td>\n",
       "    </tr>\n",
       "    <tr>\n",
       "      <th>25%</th>\n",
       "      <td>7.471781e+06</td>\n",
       "      <td>2.816300e+04</td>\n",
       "      <td>183.000000</td>\n",
       "      <td>2426.000000</td>\n",
       "      <td>4.870800</td>\n",
       "      <td>3938.000000</td>\n",
       "      <td>670.000000</td>\n",
       "      <td>4.152872e+06</td>\n",
       "    </tr>\n",
       "    <tr>\n",
       "      <th>50%</th>\n",
       "      <td>1.053757e+07</td>\n",
       "      <td>3.680900e+04</td>\n",
       "      <td>427.000000</td>\n",
       "      <td>4680.000000</td>\n",
       "      <td>4.924000</td>\n",
       "      <td>5870.000000</td>\n",
       "      <td>1313.000000</td>\n",
       "      <td>4.710178e+06</td>\n",
       "    </tr>\n",
       "    <tr>\n",
       "      <th>75%</th>\n",
       "      <td>1.505313e+07</td>\n",
       "      <td>5.675500e+04</td>\n",
       "      <td>928.000000</td>\n",
       "      <td>9061.000000</td>\n",
       "      <td>4.957000</td>\n",
       "      <td>9262.000000</td>\n",
       "      <td>2498.000000</td>\n",
       "      <td>5.359777e+06</td>\n",
       "    </tr>\n",
       "    <tr>\n",
       "      <th>max</th>\n",
       "      <td>3.280814e+07</td>\n",
       "      <td>1.839198e+06</td>\n",
       "      <td>83954.000000</td>\n",
       "      <td>258218.000000</td>\n",
       "      <td>5.000000</td>\n",
       "      <td>267763.000000</td>\n",
       "      <td>113772.000000</td>\n",
       "      <td>1.182063e+07</td>\n",
       "    </tr>\n",
       "  </tbody>\n",
       "</table>\n",
       "</div>"
      ],
      "text/plain": [
       "            shop_id    sold_count  active_listing_count  favorites_count  \\\n",
       "count  6.821000e+03  6.821000e+03           6821.000000      6821.000000   \n",
       "mean   1.182111e+07  5.410635e+04            833.908078      7544.017006   \n",
       "std    5.301915e+06  6.610441e+04           1713.912879      9869.686896   \n",
       "min    5.037340e+06  2.272900e+04              1.000000       188.000000   \n",
       "25%    7.471781e+06  2.816300e+04            183.000000      2426.000000   \n",
       "50%    1.053757e+07  3.680900e+04            427.000000      4680.000000   \n",
       "75%    1.505313e+07  5.675500e+04            928.000000      9061.000000   \n",
       "max    3.280814e+07  1.839198e+06          83954.000000    258218.000000   \n",
       "\n",
       "       average_rating  total_rating_count  average_rating_count    geoname_id  \n",
       "count     6821.000000         6821.000000           6821.000000  6.821000e+03  \n",
       "mean         4.899069         8465.615306           2097.128427  4.412836e+06  \n",
       "std          0.095504        10983.251610           3220.595331  1.356942e+06  \n",
       "min          3.000000          411.000000              2.000000  0.000000e+00  \n",
       "25%          4.870800         3938.000000            670.000000  4.152872e+06  \n",
       "50%          4.924000         5870.000000           1313.000000  4.710178e+06  \n",
       "75%          4.957000         9262.000000           2498.000000  5.359777e+06  \n",
       "max          5.000000       267763.000000         113772.000000  1.182063e+07  "
      ]
     },
     "execution_count": 8,
     "metadata": {},
     "output_type": "execute_result"
    }
   ],
   "source": [
    "# stat summary \n",
    "df.describe()"
   ]
  },
  {
   "cell_type": "code",
   "execution_count": 43,
   "id": "5bb3d170",
   "metadata": {},
   "outputs": [
    {
     "name": "stdout",
     "output_type": "stream",
     "text": [
      "3.0\n"
     ]
    }
   ],
   "source": [
    "print(min(df['average_rating']))"
   ]
  },
  {
   "cell_type": "markdown",
   "id": "af1840b7",
   "metadata": {},
   "source": [
    "## K-Means Clustering:"
   ]
  },
  {
   "cell_type": "code",
   "execution_count": 36,
   "id": "5479ac26",
   "metadata": {},
   "outputs": [
    {
     "name": "stdout",
     "output_type": "stream",
     "text": [
      "0.509892169896371\n"
     ]
    }
   ],
   "source": [
    "# K-Means clustering \n",
    "\n",
    "# inputs \n",
    "features = [\"sold_count\", \"average_rating\"]\n",
    "\n",
    "X = df[features]\n",
    "\n",
    "z = StandardScaler()\n",
    "\n",
    "X[features] = z.fit_transform(X[features])\n",
    "\n",
    "# model\n",
    "km = KMeans(n_clusters = 5)\n",
    "km.fit(X)\n",
    "\n",
    "membership = km.predict(X)\n",
    "X[\"cluster\"] = membership\n",
    "\n",
    "print(silhouette_score(X[features], membership))"
   ]
  },
  {
   "cell_type": "code",
   "execution_count": 47,
   "id": "b78aa749",
   "metadata": {},
   "outputs": [
    {
     "data": {
      "text/html": [
       "<div>\n",
       "<style scoped>\n",
       "    .dataframe tbody tr th:only-of-type {\n",
       "        vertical-align: middle;\n",
       "    }\n",
       "\n",
       "    .dataframe tbody tr th {\n",
       "        vertical-align: top;\n",
       "    }\n",
       "\n",
       "    .dataframe thead th {\n",
       "        text-align: right;\n",
       "    }\n",
       "</style>\n",
       "<table border=\"1\" class=\"dataframe\">\n",
       "  <thead>\n",
       "    <tr style=\"text-align: right;\">\n",
       "      <th></th>\n",
       "      <th>sold_count</th>\n",
       "      <th>average_rating</th>\n",
       "      <th>cluster</th>\n",
       "    </tr>\n",
       "  </thead>\n",
       "  <tbody>\n",
       "    <tr>\n",
       "      <th>0</th>\n",
       "      <td>27.006102</td>\n",
       "      <td>0.919727</td>\n",
       "      <td>2</td>\n",
       "    </tr>\n",
       "    <tr>\n",
       "      <th>1</th>\n",
       "      <td>22.868556</td>\n",
       "      <td>-0.234241</td>\n",
       "      <td>2</td>\n",
       "    </tr>\n",
       "    <tr>\n",
       "      <th>2</th>\n",
       "      <td>21.294144</td>\n",
       "      <td>-1.087674</td>\n",
       "      <td>2</td>\n",
       "    </tr>\n",
       "    <tr>\n",
       "      <th>3</th>\n",
       "      <td>18.634641</td>\n",
       "      <td>-0.275080</td>\n",
       "      <td>2</td>\n",
       "    </tr>\n",
       "    <tr>\n",
       "      <th>4</th>\n",
       "      <td>13.845895</td>\n",
       "      <td>0.400337</td>\n",
       "      <td>2</td>\n",
       "    </tr>\n",
       "  </tbody>\n",
       "</table>\n",
       "</div>"
      ],
      "text/plain": [
       "   sold_count  average_rating  cluster\n",
       "0   27.006102        0.919727        2\n",
       "1   22.868556       -0.234241        2\n",
       "2   21.294144       -1.087674        2\n",
       "3   18.634641       -0.275080        2\n",
       "4   13.845895        0.400337        2"
      ]
     },
     "execution_count": 47,
     "metadata": {},
     "output_type": "execute_result"
    }
   ],
   "source": [
    "X.head()"
   ]
  },
  {
   "cell_type": "code",
   "execution_count": 30,
   "id": "2c2e3ef0",
   "metadata": {},
   "outputs": [
    {
     "data": {
      "text/plain": [
       "array([2, 2, 2, ..., 3, 3, 1], dtype=int32)"
      ]
     },
     "execution_count": 30,
     "metadata": {},
     "output_type": "execute_result"
    }
   ],
   "source": [
    "membership"
   ]
  },
  {
   "cell_type": "code",
   "execution_count": 31,
   "id": "321c020b",
   "metadata": {},
   "outputs": [
    {
     "data": {
      "image/png": "[encoded data removed]",
      "text/plain": [
       "<Figure size 640x480 with 1 Axes>"
      ]
     },
     "metadata": {
      "needs_background": "light"
     },
     "output_type": "display_data"
    },
    {
     "data": {
      "text/plain": [
       "<ggplot: (8779589834412)>"
      ]
     },
     "execution_count": 31,
     "metadata": {},
     "output_type": "execute_result"
    }
   ],
   "source": [
    "# choosing K\n",
    "ks = [2,3,4,5,6,7,8,9,10,11,12,13,14,15,16,17,18,19,20]\n",
    "\n",
    "sse = []\n",
    "sils = []\n",
    "\n",
    "for k in ks:\n",
    "    km = KMeans(n_clusters = k)\n",
    "    km.fit(X)\n",
    "    \n",
    "    sse.append(km.inertia_)\n",
    "    sils.append(silhouette_score(X, km.predict(X)))\n",
    "    \n",
    "sse_df = pd.DataFrame({\"K\": ks,\n",
    "                      \"sse\": sse,\n",
    "                      \"silhouette\": sils})\n",
    "\n",
    "(ggplot(sse_df, aes(x = \"K\", y = \"sse\")) + geom_point() + \n",
    "geom_line() + \n",
    "theme_minimal() + \n",
    "labs(title = \"SSE for Different Ks\"))"
   ]
  },
  {
   "cell_type": "code",
   "execution_count": 37,
   "id": "f6454969",
   "metadata": {
    "scrolled": false
   },
   "outputs": [
    {
     "data": {
      "image/png": "[encoded data removed]",
      "text/plain": [
       "<Figure size 640x480 with 1 Axes>"
      ]
     },
     "metadata": {
      "needs_background": "light"
     },
     "output_type": "display_data"
    },
    {
     "data": {
      "text/plain": [
       "<ggplot: (8779591521826)>"
      ]
     },
     "execution_count": 37,
     "metadata": {},
     "output_type": "execute_result"
    }
   ],
   "source": [
    "# sil\n",
    "(ggplot(sse_df, aes(x = \"K\", y = \"silhouette\")) + geom_point() + \n",
    "geom_line() + \n",
    "theme_minimal() + \n",
    "labs(title = \"Silhouette Score for Different Ks\"))"
   ]
  },
  {
   "cell_type": "code",
   "execution_count": 52,
   "id": "c1b7ee33",
   "metadata": {},
   "outputs": [
    {
     "data": {
      "text/html": [
       "<div>\n",
       "<style scoped>\n",
       "    .dataframe tbody tr th:only-of-type {\n",
       "        vertical-align: middle;\n",
       "    }\n",
       "\n",
       "    .dataframe tbody tr th {\n",
       "        vertical-align: top;\n",
       "    }\n",
       "\n",
       "    .dataframe thead th {\n",
       "        text-align: right;\n",
       "    }\n",
       "</style>\n",
       "<table border=\"1\" class=\"dataframe\">\n",
       "  <thead>\n",
       "    <tr style=\"text-align: right;\">\n",
       "      <th></th>\n",
       "      <th>shop_id</th>\n",
       "      <th>shop_name</th>\n",
       "      <th>is_open</th>\n",
       "      <th>sold_count</th>\n",
       "      <th>additional_customization</th>\n",
       "      <th>active_listing_count</th>\n",
       "      <th>status</th>\n",
       "      <th>location</th>\n",
       "      <th>favorites_count</th>\n",
       "      <th>average_rating</th>\n",
       "      <th>...</th>\n",
       "      <th>has_currency_code</th>\n",
       "      <th>accepts_direct_checkout</th>\n",
       "      <th>accepts_paypal</th>\n",
       "      <th>ships_to_country_ids</th>\n",
       "      <th>is_eligible_free_shipping</th>\n",
       "      <th>has_min_free_shipping</th>\n",
       "      <th>has_free_shipping</th>\n",
       "      <th>ships_to_regions</th>\n",
       "      <th>RunDate</th>\n",
       "      <th>cluster</th>\n",
       "    </tr>\n",
       "  </thead>\n",
       "  <tbody>\n",
       "    <tr>\n",
       "      <th>0</th>\n",
       "      <td>9811209</td>\n",
       "      <td>PlannerKate1</td>\n",
       "      <td>True</td>\n",
       "      <td>1839198</td>\n",
       "      <td>True</td>\n",
       "      <td>2583</td>\n",
       "      <td>active</td>\n",
       "      <td>Oak Harbor, Ohio</td>\n",
       "      <td>61367</td>\n",
       "      <td>4.9869</td>\n",
       "      <td>...</td>\n",
       "      <td>True</td>\n",
       "      <td>True</td>\n",
       "      <td>False</td>\n",
       "      <td>[209, 0, 150, 79, 175]</td>\n",
       "      <td>False</td>\n",
       "      <td>False</td>\n",
       "      <td>False</td>\n",
       "      <td>['ANY']</td>\n",
       "      <td>4/3/22 12:05</td>\n",
       "      <td>3</td>\n",
       "    </tr>\n",
       "    <tr>\n",
       "      <th>1</th>\n",
       "      <td>10204022</td>\n",
       "      <td>CaitlynMinimalist</td>\n",
       "      <td>True</td>\n",
       "      <td>1565708</td>\n",
       "      <td>True</td>\n",
       "      <td>1070</td>\n",
       "      <td>active</td>\n",
       "      <td>LA, California</td>\n",
       "      <td>258218</td>\n",
       "      <td>4.8767</td>\n",
       "      <td>...</td>\n",
       "      <td>True</td>\n",
       "      <td>True</td>\n",
       "      <td>False</td>\n",
       "      <td>[79, 167, 290, 284, 209, 61, 58, 74, 105, 55, ...</td>\n",
       "      <td>True</td>\n",
       "      <td>False</td>\n",
       "      <td>True</td>\n",
       "      <td>['ANY']</td>\n",
       "      <td>4/3/22 12:05</td>\n",
       "      <td>3</td>\n",
       "    </tr>\n",
       "    <tr>\n",
       "      <th>2</th>\n",
       "      <td>9901413</td>\n",
       "      <td>Beadboat1</td>\n",
       "      <td>True</td>\n",
       "      <td>1461640</td>\n",
       "      <td>True</td>\n",
       "      <td>8511</td>\n",
       "      <td>active</td>\n",
       "      <td>Dallas, Texas</td>\n",
       "      <td>59085</td>\n",
       "      <td>4.7952</td>\n",
       "      <td>...</td>\n",
       "      <td>True</td>\n",
       "      <td>True</td>\n",
       "      <td>False</td>\n",
       "      <td>[70, 118, 146, 90, 151, 79, 207, 91, 71, 215, ...</td>\n",
       "      <td>True</td>\n",
       "      <td>True</td>\n",
       "      <td>True</td>\n",
       "      <td>['AL', 'AM', 'AU', 'AT', 'BE', 'BG', 'BY', 'BR...</td>\n",
       "      <td>4/3/22 12:05</td>\n",
       "      <td>3</td>\n",
       "    </tr>\n",
       "    <tr>\n",
       "      <th>3</th>\n",
       "      <td>8617622</td>\n",
       "      <td>ModParty</td>\n",
       "      <td>True</td>\n",
       "      <td>1285848</td>\n",
       "      <td>True</td>\n",
       "      <td>1618</td>\n",
       "      <td>active</td>\n",
       "      <td>Tustin, California</td>\n",
       "      <td>115299</td>\n",
       "      <td>4.8728</td>\n",
       "      <td>...</td>\n",
       "      <td>True</td>\n",
       "      <td>True</td>\n",
       "      <td>False</td>\n",
       "      <td>[175, 61, 80, 220, 219, 204, 56, 103, 79, 128,...</td>\n",
       "      <td>False</td>\n",
       "      <td>False</td>\n",
       "      <td>False</td>\n",
       "      <td>['US']</td>\n",
       "      <td>4/3/22 12:05</td>\n",
       "      <td>3</td>\n",
       "    </tr>\n",
       "    <tr>\n",
       "      <th>4</th>\n",
       "      <td>5413707</td>\n",
       "      <td>yakutum</td>\n",
       "      <td>True</td>\n",
       "      <td>969314</td>\n",
       "      <td>True</td>\n",
       "      <td>24293</td>\n",
       "      <td>active</td>\n",
       "      <td>Istanbul, Turkey</td>\n",
       "      <td>36700</td>\n",
       "      <td>4.9373</td>\n",
       "      <td>...</td>\n",
       "      <td>True</td>\n",
       "      <td>True</td>\n",
       "      <td>True</td>\n",
       "      <td>[209, 167, 127, 0, 203, 61, 131]</td>\n",
       "      <td>False</td>\n",
       "      <td>False</td>\n",
       "      <td>False</td>\n",
       "      <td>['ANY']</td>\n",
       "      <td>4/3/22 12:05</td>\n",
       "      <td>3</td>\n",
       "    </tr>\n",
       "  </tbody>\n",
       "</table>\n",
       "<p>5 rows × 25 columns</p>\n",
       "</div>"
      ],
      "text/plain": [
       "    shop_id          shop_name  is_open  sold_count  additional_customization  \\\n",
       "0   9811209       PlannerKate1     True     1839198                      True   \n",
       "1  10204022  CaitlynMinimalist     True     1565708                      True   \n",
       "2   9901413          Beadboat1     True     1461640                      True   \n",
       "3   8617622           ModParty     True     1285848                      True   \n",
       "4   5413707            yakutum     True      969314                      True   \n",
       "\n",
       "   active_listing_count  status            location  favorites_count  \\\n",
       "0                  2583  active    Oak Harbor, Ohio            61367   \n",
       "1                  1070  active      LA, California           258218   \n",
       "2                  8511  active       Dallas, Texas            59085   \n",
       "3                  1618  active  Tustin, California           115299   \n",
       "4                 24293  active    Istanbul, Turkey            36700   \n",
       "\n",
       "   average_rating  ...  has_currency_code  accepts_direct_checkout  \\\n",
       "0          4.9869  ...               True                     True   \n",
       "1          4.8767  ...               True                     True   \n",
       "2          4.7952  ...               True                     True   \n",
       "3          4.8728  ...               True                     True   \n",
       "4          4.9373  ...               True                     True   \n",
       "\n",
       "   accepts_paypal                               ships_to_country_ids  \\\n",
       "0           False                             [209, 0, 150, 79, 175]   \n",
       "1           False  [79, 167, 290, 284, 209, 61, 58, 74, 105, 55, ...   \n",
       "2           False  [70, 118, 146, 90, 151, 79, 207, 91, 71, 215, ...   \n",
       "3           False  [175, 61, 80, 220, 219, 204, 56, 103, 79, 128,...   \n",
       "4            True                   [209, 167, 127, 0, 203, 61, 131]   \n",
       "\n",
       "  is_eligible_free_shipping  has_min_free_shipping  has_free_shipping  \\\n",
       "0                     False                  False              False   \n",
       "1                      True                  False               True   \n",
       "2                      True                   True               True   \n",
       "3                     False                  False              False   \n",
       "4                     False                  False              False   \n",
       "\n",
       "                                    ships_to_regions       RunDate cluster  \n",
       "0                                            ['ANY']  4/3/22 12:05       3  \n",
       "1                                            ['ANY']  4/3/22 12:05       3  \n",
       "2  ['AL', 'AM', 'AU', 'AT', 'BE', 'BG', 'BY', 'BR...  4/3/22 12:05       3  \n",
       "3                                             ['US']  4/3/22 12:05       3  \n",
       "4                                            ['ANY']  4/3/22 12:05       3  \n",
       "\n",
       "[5 rows x 25 columns]"
      ]
     },
     "execution_count": 52,
     "metadata": {},
     "output_type": "execute_result"
    }
   ],
   "source": [
    "# add the predicted cluster to the original data set \n",
    "\n",
    "km2 = KMeans(n_clusters = 5)\n",
    "km2.fit(X)\n",
    "\n",
    "df[\"cluster\"] = km2.predict(X)\n",
    "df.head()"
   ]
  },
  {
   "cell_type": "code",
   "execution_count": 53,
   "id": "ebc0daed",
   "metadata": {},
   "outputs": [
    {
     "data": {
      "image/png": "[encoded data removed]",
      "text/plain": [
       "<Figure size 640x480 with 1 Axes>"
      ]
     },
     "metadata": {
      "needs_background": "light"
     },
     "output_type": "display_data"
    },
    {
     "data": {
      "text/plain": [
       "<ggplot: (8779608231858)>"
      ]
     },
     "execution_count": 53,
     "metadata": {},
     "output_type": "execute_result"
    }
   ],
   "source": [
    "(ggplot(df, aes(x = \"average_rating\", y = \"sold_count\", color = \"cluster\")) + \n",
    "geom_point() + theme_minimal() + labs(x = \"avg_rating\", y = \"sold_count\", title = \"avg_rating vs. sold_count\"))"
   ]
  },
  {
   "cell_type": "code",
   "execution_count": 55,
   "id": "51ae7352",
   "metadata": {},
   "outputs": [
    {
     "data": {
      "text/plain": [
       "6            PeggySueAlso\n",
       "27             beadsmaker\n",
       "22    GLDNxLayeredAndLong\n",
       "26              PipSupply\n",
       "12            yadanabeads\n",
       "17           DigitalCurio\n",
       "4                 yakutum\n",
       "11      Worldincensestore\n",
       "2               Beadboat1\n",
       "20            BeWellGroup\n",
       "8     HappyKawaiiSupplies\n",
       "3                ModParty\n",
       "5           KJewelryMetal\n",
       "1       CaitlynMinimalist\n",
       "24     PrincessBeadSupply\n",
       "28      HeatherRobertsArt\n",
       "13      NewMoonBeginnings\n",
       "16        CreatingUnkamen\n",
       "15       jewelersparadise\n",
       "7              ilovelotus\n",
       "Name: shop_name, dtype: object"
      ]
     },
     "execution_count": 55,
     "metadata": {},
     "output_type": "execute_result"
    }
   ],
   "source": [
    "# to view the shop names of cluster 3 \n",
    "df.loc[df.cluster == 3,\"shop_name\"].sample(20)"
   ]
  },
  {
   "cell_type": "code",
   "execution_count": 56,
   "id": "9083e50f",
   "metadata": {},
   "outputs": [
    {
     "data": {
      "image/png": "[encoded data removed]",
      "text/plain": [
       "<Figure size 640x480 with 1 Axes>"
      ]
     },
     "metadata": {
      "needs_background": "light"
     },
     "output_type": "display_data"
    },
    {
     "data": {
      "text/plain": [
       "<ggplot: (8779608956076)>"
      ]
     },
     "execution_count": 56,
     "metadata": {},
     "output_type": "execute_result"
    }
   ],
   "source": [
    "# ggplot of clusters vs free shipping \n",
    "(ggplot(df, aes(x = \"cluster\", fill = \"has_free_shipping\")) + geom_bar() + theme_minimal() + labs(title = \"Cluster vs. Free Shipping\"))"
   ]
  },
  {
   "cell_type": "code",
   "execution_count": 57,
   "id": "aea95343",
   "metadata": {
    "scrolled": true
   },
   "outputs": [
    {
     "data": {
      "image/png": "[encoded data removed]",
      "text/plain": [
       "<Figure size 640x480 with 1 Axes>"
      ]
     },
     "metadata": {
      "needs_background": "light"
     },
     "output_type": "display_data"
    },
    {
     "data": {
      "text/plain": [
       "<ggplot: (8779591573881)>"
      ]
     },
     "execution_count": 57,
     "metadata": {},
     "output_type": "execute_result"
    }
   ],
   "source": [
    "(ggplot(df, aes(x = \"cluster\", y = \"favorites_count\", fill = \"cluster\")) +\n",
    " stat_summary(fun_data = \"mean_sdl\", geom = \"bar\") +\n",
    "theme_minimal() + labs(title = \"Clusters vs. favorites_count\"))"
   ]
  },
  {
   "cell_type": "code",
   "execution_count": 60,
   "id": "4c75aded",
   "metadata": {},
   "outputs": [
    {
     "data": {
      "text/plain": [
       "Index(['shop_id', 'shop_name', 'is_open', 'sold_count',\n",
       "       'additional_customization', 'active_listing_count', 'status',\n",
       "       'location', 'favorites_count', 'average_rating', 'total_rating_count',\n",
       "       'average_rating_count', 'geoname_id', 'country_code', 'currency_code',\n",
       "       'has_currency_code', 'accepts_direct_checkout', 'accepts_paypal',\n",
       "       'ships_to_country_ids', 'is_eligible_free_shipping',\n",
       "       'has_min_free_shipping', 'has_free_shipping', 'ships_to_regions',\n",
       "       'RunDate', 'cluster'],\n",
       "      dtype='object')"
      ]
     },
     "execution_count": 60,
     "metadata": {},
     "output_type": "execute_result"
    }
   ],
   "source": [
    "df.columns"
   ]
  },
  {
   "cell_type": "markdown",
   "id": "4558b8b3",
   "metadata": {},
   "source": [
    "## Linear Regression on 'average_rating':"
   ]
  },
  {
   "cell_type": "code",
   "execution_count": 70,
   "id": "3f1ed2da",
   "metadata": {},
   "outputs": [],
   "source": [
    "predictors = ['sold_count', 'active_listing_count', 'favorites_count', 'total_rating_count', 'average_rating_count']\n",
    "\n",
    "x = df[predictors]\n",
    "Y = df[\"average_rating\"]\n",
    "\n",
    "\n",
    "# tts\n",
    "X_train, X_test, y_train, y_test = train_test_split(x, Y, test_size=0.2)"
   ]
  },
  {
   "cell_type": "code",
   "execution_count": 71,
   "id": "02f89913",
   "metadata": {},
   "outputs": [
    {
     "name": "stdout",
     "output_type": "stream",
     "text": [
      "(5456, 5)\n",
      "(1365, 5)\n"
     ]
    },
    {
     "data": {
      "text/html": [
       "<div>\n",
       "<style scoped>\n",
       "    .dataframe tbody tr th:only-of-type {\n",
       "        vertical-align: middle;\n",
       "    }\n",
       "\n",
       "    .dataframe tbody tr th {\n",
       "        vertical-align: top;\n",
       "    }\n",
       "\n",
       "    .dataframe thead th {\n",
       "        text-align: right;\n",
       "    }\n",
       "</style>\n",
       "<table border=\"1\" class=\"dataframe\">\n",
       "  <thead>\n",
       "    <tr style=\"text-align: right;\">\n",
       "      <th></th>\n",
       "      <th>sold_count</th>\n",
       "      <th>active_listing_count</th>\n",
       "      <th>favorites_count</th>\n",
       "      <th>total_rating_count</th>\n",
       "      <th>average_rating_count</th>\n",
       "    </tr>\n",
       "  </thead>\n",
       "  <tbody>\n",
       "    <tr>\n",
       "      <th>4766</th>\n",
       "      <td>29666</td>\n",
       "      <td>266</td>\n",
       "      <td>1257</td>\n",
       "      <td>4084</td>\n",
       "      <td>1483</td>\n",
       "    </tr>\n",
       "    <tr>\n",
       "      <th>3392</th>\n",
       "      <td>36923</td>\n",
       "      <td>463</td>\n",
       "      <td>4910</td>\n",
       "      <td>4968</td>\n",
       "      <td>3933</td>\n",
       "    </tr>\n",
       "    <tr>\n",
       "      <th>5447</th>\n",
       "      <td>26959</td>\n",
       "      <td>1234</td>\n",
       "      <td>5033</td>\n",
       "      <td>5131</td>\n",
       "      <td>1860</td>\n",
       "    </tr>\n",
       "    <tr>\n",
       "      <th>4442</th>\n",
       "      <td>31095</td>\n",
       "      <td>1262</td>\n",
       "      <td>4588</td>\n",
       "      <td>4074</td>\n",
       "      <td>529</td>\n",
       "    </tr>\n",
       "    <tr>\n",
       "      <th>1528</th>\n",
       "      <td>60634</td>\n",
       "      <td>1158</td>\n",
       "      <td>1297</td>\n",
       "      <td>6300</td>\n",
       "      <td>2635</td>\n",
       "    </tr>\n",
       "  </tbody>\n",
       "</table>\n",
       "</div>"
      ],
      "text/plain": [
       "      sold_count  active_listing_count  favorites_count  total_rating_count  \\\n",
       "4766       29666                   266             1257                4084   \n",
       "3392       36923                   463             4910                4968   \n",
       "5447       26959                  1234             5033                5131   \n",
       "4442       31095                  1262             4588                4074   \n",
       "1528       60634                  1158             1297                6300   \n",
       "\n",
       "      average_rating_count  \n",
       "4766                  1483  \n",
       "3392                  3933  \n",
       "5447                  1860  \n",
       "4442                   529  \n",
       "1528                  2635  "
      ]
     },
     "execution_count": 71,
     "metadata": {},
     "output_type": "execute_result"
    }
   ],
   "source": [
    "# size of train and test\n",
    "print(X_train.shape)\n",
    "print(X_test.shape)\n",
    "\n",
    "X_train.head()"
   ]
  },
  {
   "cell_type": "code",
   "execution_count": 72,
   "id": "46c280cb",
   "metadata": {},
   "outputs": [
    {
     "data": {
      "text/plain": [
       "LinearRegression()"
      ]
     },
     "execution_count": 72,
     "metadata": {},
     "output_type": "execute_result"
    }
   ],
   "source": [
    "# create and fit\n",
    "model = LinearRegression()\n",
    "model.fit(X_train, y_train)"
   ]
  },
  {
   "cell_type": "code",
   "execution_count": 73,
   "id": "d4ce6664",
   "metadata": {},
   "outputs": [],
   "source": [
    "# predictions\n",
    "y_pred = model.predict(X_test)"
   ]
  },
  {
   "cell_type": "code",
   "execution_count": 74,
   "id": "b1d7c707",
   "metadata": {},
   "outputs": [
    {
     "data": {
      "text/plain": [
       "0.00859857277768239"
      ]
     },
     "execution_count": 74,
     "metadata": {},
     "output_type": "execute_result"
    }
   ],
   "source": [
    "# testing R2 -> model is underfit \n",
    "model.score(X_test, y_test)"
   ]
  },
  {
   "cell_type": "code",
   "execution_count": 75,
   "id": "4ff87946",
   "metadata": {},
   "outputs": [
    {
     "data": {
      "text/plain": [
       "0.017272183153540843"
      ]
     },
     "execution_count": 75,
     "metadata": {},
     "output_type": "execute_result"
    }
   ],
   "source": [
    "# training R2\n",
    "model.score(X_train, y_train)"
   ]
  },
  {
   "cell_type": "code",
   "execution_count": 76,
   "id": "f060d4ef",
   "metadata": {},
   "outputs": [
    {
     "data": {
      "text/html": [
       "<div>\n",
       "<style scoped>\n",
       "    .dataframe tbody tr th:only-of-type {\n",
       "        vertical-align: middle;\n",
       "    }\n",
       "\n",
       "    .dataframe tbody tr th {\n",
       "        vertical-align: top;\n",
       "    }\n",
       "\n",
       "    .dataframe thead th {\n",
       "        text-align: right;\n",
       "    }\n",
       "</style>\n",
       "<table border=\"1\" class=\"dataframe\">\n",
       "  <thead>\n",
       "    <tr style=\"text-align: right;\">\n",
       "      <th></th>\n",
       "      <th>predicted</th>\n",
       "      <th>true</th>\n",
       "    </tr>\n",
       "  </thead>\n",
       "  <tbody>\n",
       "    <tr>\n",
       "      <th>5260</th>\n",
       "      <td>4.900219</td>\n",
       "      <td>4.9223</td>\n",
       "    </tr>\n",
       "    <tr>\n",
       "      <th>851</th>\n",
       "      <td>4.903468</td>\n",
       "      <td>4.9516</td>\n",
       "    </tr>\n",
       "    <tr>\n",
       "      <th>5831</th>\n",
       "      <td>4.901400</td>\n",
       "      <td>4.8792</td>\n",
       "    </tr>\n",
       "    <tr>\n",
       "      <th>3260</th>\n",
       "      <td>4.899966</td>\n",
       "      <td>4.8662</td>\n",
       "    </tr>\n",
       "    <tr>\n",
       "      <th>3669</th>\n",
       "      <td>4.898807</td>\n",
       "      <td>4.8624</td>\n",
       "    </tr>\n",
       "    <tr>\n",
       "      <th>...</th>\n",
       "      <td>...</td>\n",
       "      <td>...</td>\n",
       "    </tr>\n",
       "    <tr>\n",
       "      <th>3848</th>\n",
       "      <td>4.879194</td>\n",
       "      <td>4.9416</td>\n",
       "    </tr>\n",
       "    <tr>\n",
       "      <th>4705</th>\n",
       "      <td>4.898599</td>\n",
       "      <td>4.7756</td>\n",
       "    </tr>\n",
       "    <tr>\n",
       "      <th>4148</th>\n",
       "      <td>4.898643</td>\n",
       "      <td>4.8958</td>\n",
       "    </tr>\n",
       "    <tr>\n",
       "      <th>824</th>\n",
       "      <td>4.892816</td>\n",
       "      <td>4.9332</td>\n",
       "    </tr>\n",
       "    <tr>\n",
       "      <th>4937</th>\n",
       "      <td>4.893573</td>\n",
       "      <td>4.7357</td>\n",
       "    </tr>\n",
       "  </tbody>\n",
       "</table>\n",
       "<p>1365 rows × 2 columns</p>\n",
       "</div>"
      ],
      "text/plain": [
       "      predicted    true\n",
       "5260   4.900219  4.9223\n",
       "851    4.903468  4.9516\n",
       "5831   4.901400  4.8792\n",
       "3260   4.899966  4.8662\n",
       "3669   4.898807  4.8624\n",
       "...         ...     ...\n",
       "3848   4.879194  4.9416\n",
       "4705   4.898599  4.7756\n",
       "4148   4.898643  4.8958\n",
       "824    4.892816  4.9332\n",
       "4937   4.893573  4.7357\n",
       "\n",
       "[1365 rows x 2 columns]"
      ]
     },
     "execution_count": 76,
     "metadata": {},
     "output_type": "execute_result"
    }
   ],
   "source": [
    "# true vs. pred dataframe \n",
    "true_vs_pred = pd.DataFrame({\"predicted\": y_pred, \n",
    "                            \"true\": y_test})\n",
    "\n",
    "true_vs_pred"
   ]
  },
  {
   "cell_type": "code",
   "execution_count": 83,
   "id": "78155b95",
   "metadata": {},
   "outputs": [
    {
     "data": {
      "image/png": "[encoded data removed]",
      "text/plain": [
       "<Figure size 640x480 with 1 Axes>"
      ]
     },
     "metadata": {},
     "output_type": "display_data"
    },
    {
     "data": {
      "text/plain": [
       "<ggplot: (8779589421520)>"
      ]
     },
     "execution_count": 83,
     "metadata": {},
     "output_type": "execute_result"
    }
   ],
   "source": [
    "# plot\n",
    "(ggplot(true_vs_pred, aes(x = \"true\", y = \"predicted\")) + geom_point()) + theme_bw() + labs(title = \"True vs. Predicted Values\")"
   ]
  }
 ],
 "metadata": {
  "kernelspec": {
   "display_name": "Python 3",
   "language": "python",
   "name": "python3"
  }
 },
 "nbformat": 4,
 "nbformat_minor": 5
}
